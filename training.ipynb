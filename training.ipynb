{
 "cells": [
  {
   "cell_type": "markdown",
   "metadata": {},
   "source": [
    "## PRE-PROCESSING"
   ]
  },
  {
   "cell_type": "code",
   "execution_count": 1,
   "metadata": {},
   "outputs": [
    {
     "name": "stdout",
     "output_type": "stream",
     "text": [
      "Requirement already satisfied: pandas in c:\\programdata\\anaconda3\\lib\\site-packages (1.1.3)\n",
      "Requirement already satisfied: numpy>=1.15.4 in c:\\programdata\\anaconda3\\lib\\site-packages (from pandas) (1.19.2)\n",
      "Requirement already satisfied: python-dateutil>=2.7.3 in c:\\programdata\\anaconda3\\lib\\site-packages (from pandas) (2.8.1)\n",
      "Requirement already satisfied: pytz>=2017.2 in c:\\programdata\\anaconda3\\lib\\site-packages (from pandas) (2020.1)\n",
      "Requirement already satisfied: six>=1.5 in c:\\programdata\\anaconda3\\lib\\site-packages (from python-dateutil>=2.7.3->pandas) (1.15.0)\n",
      "Requirement already satisfied: scikit-learn in c:\\programdata\\anaconda3\\lib\\site-packages (0.23.2)\n",
      "Requirement already satisfied: scipy>=0.19.1 in c:\\programdata\\anaconda3\\lib\\site-packages (from scikit-learn) (1.5.2)\n",
      "Requirement already satisfied: joblib>=0.11 in c:\\programdata\\anaconda3\\lib\\site-packages (from scikit-learn) (0.17.0)\n",
      "Requirement already satisfied: threadpoolctl>=2.0.0 in c:\\programdata\\anaconda3\\lib\\site-packages (from scikit-learn) (2.1.0)\n",
      "Requirement already satisfied: numpy>=1.13.3 in c:\\programdata\\anaconda3\\lib\\site-packages (from scikit-learn) (1.19.2)\n"
     ]
    }
   ],
   "source": [
    "!pip install pandas\n",
    "!pip install scikit-learn"
   ]
  },
  {
   "cell_type": "code",
   "execution_count": 1,
   "metadata": {},
   "outputs": [],
   "source": [
    "import numpy as np\n",
    "import pandas as pd\n",
    "import matplotlib.pyplot as plt\n",
    "from sklearn.preprocessing import LabelEncoder\n",
    "from sklearn.preprocessing import OneHotEncoder\n",
    "from sklearn.impute import SimpleImputer\n",
    "from sklearn.neighbors import KNeighborsClassifier\n",
    "from sklearn.tree import DecisionTreeClassifier\n",
    "from sklearn.linear_model import LogisticRegression"
   ]
  },
  {
   "cell_type": "code",
   "execution_count": 2,
   "metadata": {},
   "outputs": [],
   "source": [
    "# leggi i file e salva l'input in due DataFrames\n",
    "training_data = pd.read_csv('train.csv', error_bad_lines=False, dtype=str)\n",
    "test_data = pd.read_csv('test.csv', error_bad_lines=False, dtype=str)"
   ]
  },
  {
   "cell_type": "code",
   "execution_count": 3,
   "metadata": {},
   "outputs": [],
   "source": [
    "# encoding delle categorical variables da string a int\n",
    "encoder = LabelEncoder()\n",
    "training_encoded = training_data.apply(encoder.fit_transform)\n",
    "test_encoded = test_data.apply(encoder.fit_transform)"
   ]
  },
  {
   "cell_type": "code",
   "execution_count": 4,
   "metadata": {},
   "outputs": [],
   "source": [
    "# selezioniamo la variabile su cui effettuare la predizione\n",
    "y_train = training_encoded['Churn']\n",
    "\n",
    "# dichiariamo la variabile con le features\n",
    "X_train = training_encoded.drop(['Churn'], axis=1)\n",
    "\n",
    "# facciamo la stessa cosa col test set\n",
    "y_test = test_encoded['Churn']\n",
    "X_test = test_encoded.drop(['Churn'], axis=1)"
   ]
  },
  {
   "cell_type": "code",
   "execution_count": 5,
   "metadata": {},
   "outputs": [
    {
     "name": "stdout",
     "output_type": "stream",
     "text": [
      "                     Churn  customerID    gender  SeniorCitizen   Partner  \\\n",
      "Churn             1.000000   -0.017698 -0.018921       0.133957 -0.132326   \n",
      "customerID       -0.017698    1.000000  0.018772      -0.013145 -0.031767   \n",
      "gender           -0.018921    0.018772  1.000000      -0.012747 -0.008712   \n",
      "SeniorCitizen     0.133957   -0.013145 -0.012747       1.000000  0.021314   \n",
      "Partner          -0.132326   -0.031767 -0.008712       0.021314  1.000000   \n",
      "Dependents       -0.155147   -0.016765  0.013579      -0.211710  0.444052   \n",
      "tenure           -0.253136    0.001607 -0.001817       0.003318  0.277416   \n",
      "PhoneService      0.013026   -0.026850 -0.015802      -0.007382  0.033226   \n",
      "MultipleLines     0.029782   -0.009823 -0.002785       0.129437  0.151456   \n",
      "InternetService  -0.043818   -0.022547 -0.004192      -0.038699  0.000782   \n",
      "OnlineSecurity   -0.278468    0.015896 -0.028950      -0.119062  0.165796   \n",
      "OnlineBackup     -0.194179   -0.008561 -0.018096      -0.011127  0.170769   \n",
      "DeviceProtection -0.172374   -0.005453  0.000315      -0.019896  0.166563   \n",
      "TechSupport      -0.273588    0.020591 -0.013920      -0.148778  0.125029   \n",
      "StreamingTV      -0.044648   -0.013583 -0.014036       0.031292  0.156447   \n",
      "StreamingMovies  -0.032778   -0.027559 -0.018081       0.043088  0.130402   \n",
      "Contract         -0.383716    0.022228 -0.000348      -0.149254  0.288786   \n",
      "PaperlessBilling  0.191908   -0.004810 -0.019565       0.155313 -0.000583   \n",
      "PaymentMethod     0.096652    0.007627  0.004970      -0.030112 -0.156230   \n",
      "MonthlyCharges    0.153679    0.011116  0.005645       0.093485 -0.005232   \n",
      "TotalCharges      0.018305    0.008058 -0.002098       0.045048  0.068623   \n",
      "\n",
      "                  Dependents    tenure  PhoneService  MultipleLines  \\\n",
      "Churn              -0.155147 -0.253136      0.013026       0.029782   \n",
      "customerID         -0.016765  0.001607     -0.026850      -0.009823   \n",
      "gender              0.013579 -0.001817     -0.015802      -0.002785   \n",
      "SeniorCitizen      -0.211710  0.003318     -0.007382       0.129437   \n",
      "Partner             0.444052  0.277416      0.033226       0.151456   \n",
      "Dependents          1.000000  0.109543      0.005639      -0.027116   \n",
      "tenure              0.109543  1.000000     -0.002489       0.246271   \n",
      "PhoneService        0.005639 -0.002489      1.000000      -0.016675   \n",
      "MultipleLines      -0.027116  0.246271     -0.016675       1.000000   \n",
      "InternetService     0.039325 -0.027576      0.391847      -0.120763   \n",
      "OnlineSecurity      0.153918  0.238591      0.000059       0.008340   \n",
      "OnlineBackup        0.096762  0.277508      0.017305       0.129107   \n",
      "DeviceProtection    0.079074  0.275540      0.006204       0.130405   \n",
      "TechSupport         0.133234  0.240474      0.004386       0.012567   \n",
      "StreamingTV         0.049883  0.232050      0.052817       0.176986   \n",
      "StreamingMovies     0.030658  0.231109      0.053149       0.181264   \n",
      "Contract            0.241060  0.506317     -0.002513       0.103116   \n",
      "PaperlessBilling   -0.094845  0.009367      0.026184       0.172151   \n",
      "PaymentMethod      -0.035134 -0.258026     -0.004351      -0.181695   \n",
      "MonthlyCharges     -0.073078 -0.058173      0.139584       0.098937   \n",
      "TotalCharges       -0.009115  0.175969      0.082756       0.111699   \n",
      "\n",
      "                  InternetService  ...  OnlineBackup  DeviceProtection  \\\n",
      "Churn                   -0.043818  ...     -0.194179         -0.172374   \n",
      "customerID              -0.022547  ...     -0.008561         -0.005453   \n",
      "gender                  -0.004192  ...     -0.018096          0.000315   \n",
      "SeniorCitizen           -0.038699  ...     -0.011127         -0.019896   \n",
      "Partner                  0.000782  ...      0.170769          0.166563   \n",
      "Dependents               0.039325  ...      0.096762          0.079074   \n",
      "tenure                  -0.027576  ...      0.277508          0.275540   \n",
      "PhoneService             0.391847  ...      0.017305          0.006204   \n",
      "MultipleLines           -0.120763  ...      0.129107          0.130405   \n",
      "InternetService          1.000000  ...      0.034125          0.052579   \n",
      "OnlineSecurity          -0.027930  ...      0.178067          0.180970   \n",
      "OnlineBackup             0.034125  ...      1.000000          0.189670   \n",
      "DeviceProtection         0.052579  ...      0.189670          1.000000   \n",
      "TechSupport             -0.015808  ...      0.180845          0.243491   \n",
      "StreamingTV              0.102978  ...      0.149709          0.286438   \n",
      "StreamingMovies          0.099753  ...      0.148671          0.297934   \n",
      "Contract                 0.086002  ...      0.272804          0.352254   \n",
      "PaperlessBilling        -0.132295  ...     -0.020780         -0.032616   \n",
      "PaymentMethod            0.100768  ...     -0.104748         -0.133021   \n",
      "MonthlyCharges          -0.323079  ...     -0.109497         -0.132350   \n",
      "TotalCharges            -0.065135  ...      0.080587          0.097915   \n",
      "\n",
      "                  TechSupport  StreamingTV  StreamingMovies  Contract  \\\n",
      "Churn               -0.273588    -0.044648        -0.032778 -0.383716   \n",
      "customerID           0.020591    -0.013583        -0.027559  0.022228   \n",
      "gender              -0.013920    -0.014036        -0.018081 -0.000348   \n",
      "SeniorCitizen       -0.148778     0.031292         0.043088 -0.149254   \n",
      "Partner              0.125029     0.156447         0.130402  0.288786   \n",
      "Dependents           0.133234     0.049883         0.030658  0.241060   \n",
      "tenure               0.240474     0.232050         0.231109  0.506317   \n",
      "PhoneService         0.004386     0.052817         0.053149 -0.002513   \n",
      "MultipleLines        0.012567     0.176986         0.181264  0.103116   \n",
      "InternetService     -0.015808     0.102978         0.099753  0.086002   \n",
      "OnlineSecurity       0.274732     0.063045         0.062120  0.370238   \n",
      "OnlineBackup         0.180845     0.149709         0.148671  0.272804   \n",
      "DeviceProtection     0.243491     0.286438         0.297934  0.352254   \n",
      "TechSupport          1.000000     0.170820         0.157082  0.429988   \n",
      "StreamingTV          0.170820     1.000000         0.429350  0.233794   \n",
      "StreamingMovies      0.157082     0.429350         1.000000  0.226297   \n",
      "Contract             0.429988     0.233794         0.226297  1.000000   \n",
      "PaperlessBilling    -0.114671     0.102709         0.084158 -0.180200   \n",
      "PaymentMethod       -0.103922    -0.111543        -0.120548 -0.220998   \n",
      "MonthlyCharges      -0.132135    -0.086976        -0.087233 -0.185411   \n",
      "TotalCharges         0.052562     0.133831         0.152411  0.091785   \n",
      "\n",
      "                  PaperlessBilling  PaymentMethod  MonthlyCharges  \\\n",
      "Churn                     0.191908       0.096652        0.153679   \n",
      "customerID               -0.004810       0.007627        0.011116   \n",
      "gender                   -0.019565       0.004970        0.005645   \n",
      "SeniorCitizen             0.155313      -0.030112        0.093485   \n",
      "Partner                  -0.000583      -0.156230       -0.005232   \n",
      "Dependents               -0.094845      -0.035134       -0.073078   \n",
      "tenure                    0.009367      -0.258026       -0.058173   \n",
      "PhoneService              0.026184      -0.004351        0.139584   \n",
      "MultipleLines             0.172151      -0.181695        0.098937   \n",
      "InternetService          -0.132295       0.100768       -0.323079   \n",
      "OnlineSecurity           -0.143930      -0.075804       -0.110094   \n",
      "OnlineBackup             -0.020780      -0.104748       -0.109497   \n",
      "DeviceProtection         -0.032616      -0.133021       -0.132350   \n",
      "TechSupport              -0.114671      -0.103922       -0.132135   \n",
      "StreamingTV               0.102709      -0.111543       -0.086976   \n",
      "StreamingMovies           0.084158      -0.120548       -0.087233   \n",
      "Contract                 -0.180200      -0.220998       -0.185411   \n",
      "PaperlessBilling          1.000000      -0.076857        0.167388   \n",
      "PaymentMethod            -0.076857       1.000000       -0.068331   \n",
      "MonthlyCharges            0.167388      -0.068331        1.000000   \n",
      "TotalCharges              0.096279      -0.051036       -0.011835   \n",
      "\n",
      "                  TotalCharges  \n",
      "Churn                 0.018305  \n",
      "customerID            0.008058  \n",
      "gender               -0.002098  \n",
      "SeniorCitizen         0.045048  \n",
      "Partner               0.068623  \n",
      "Dependents           -0.009115  \n",
      "tenure                0.175969  \n",
      "PhoneService          0.082756  \n",
      "MultipleLines         0.111699  \n",
      "InternetService      -0.065135  \n",
      "OnlineSecurity        0.037806  \n",
      "OnlineBackup          0.080587  \n",
      "DeviceProtection      0.097915  \n",
      "TechSupport           0.052562  \n",
      "StreamingTV           0.133831  \n",
      "StreamingMovies       0.152411  \n",
      "Contract              0.091785  \n",
      "PaperlessBilling      0.096279  \n",
      "PaymentMethod        -0.051036  \n",
      "MonthlyCharges       -0.011835  \n",
      "TotalCharges          1.000000  \n",
      "\n",
      "[21 rows x 21 columns]\n"
     ]
    }
   ],
   "source": [
    "print(training_encoded.corr())"
   ]
  },
  {
   "cell_type": "markdown",
   "metadata": {},
   "source": [
    "## DECISION TREE"
   ]
  },
  {
   "cell_type": "code",
   "execution_count": 20,
   "metadata": {},
   "outputs": [],
   "source": [
    "# rappresentazione grafica dell'importanza delle feature\n",
    "def plot_feature_importances_telco(model):\n",
    "    n_features = training_data.columns.shape[0]\n",
    "    plt.barh(np.arange(n_features-1), model.feature_importances_, align='center')\n",
    "    plt.yticks(np.arange(n_features), training_data.columns)\n",
    "    plt.xlabel(\"Feature importance\")\n",
    "    plt.ylabel(\"Feature\")"
   ]
  },
  {
   "cell_type": "code",
   "execution_count": 7,
   "metadata": {},
   "outputs": [
    {
     "name": "stdout",
     "output_type": "stream",
     "text": [
      "MODEL ACCURACY ON TRAINING SET:  1.0\n",
      "MODEL ACCURACY ON TEST SET:  0.6521739130434783\n"
     ]
    }
   ],
   "source": [
    "# modellazione tramite decision tree\n",
    "tree = DecisionTreeClassifier(random_state=0)\n",
    "tree.fit(X_train, y_train)\n",
    "train_accuracy = tree.score(X_train, y_train)\n",
    "accuracy = tree.score(X_test, y_test)\n",
    "print(\"MODEL ACCURACY ON TRAINING SET: \", train_accuracy)\n",
    "print(\"MODEL ACCURACY ON TEST SET: \", accuracy)"
   ]
  },
  {
   "cell_type": "code",
   "execution_count": 8,
   "metadata": {},
   "outputs": [
    {
     "name": "stdout",
     "output_type": "stream",
     "text": [
      "Feature importances:\n",
      "[0.17590509 0.0204634  0.01191327 0.01183167 0.01095948 0.1041352\n",
      " 0.00240567 0.01412028 0.02606974 0.04330528 0.01840181 0.02214466\n",
      " 0.01078391 0.01082279 0.01040777 0.15466565 0.02769991 0.0280533\n",
      " 0.16333868 0.13257245]\n"
     ]
    }
   ],
   "source": [
    "# analisi dell'importanza delle features\n",
    "print(\"Feature importances:\")\n",
    "print(tree.feature_importances_)"
   ]
  },
  {
   "cell_type": "code",
   "execution_count": 9,
   "metadata": {},
   "outputs": [
    {
     "data": {
      "image/png": "[encoded data removed]",
      "text/plain": [
       "<Figure size 432x288 with 1 Axes>"
      ]
     },
     "metadata": {
      "needs_background": "light"
     },
     "output_type": "display_data"
    }
   ],
   "source": [
    "plot_feature_importances_telco(tree)"
   ]
  },
  {
   "cell_type": "code",
   "execution_count": 10,
   "metadata": {},
   "outputs": [
    {
     "name": "stdout",
     "output_type": "stream",
     "text": [
      "MODEL ACCURACY ON TRAINING SET:  0.7783447969824717\n",
      "MODEL ACCURACY ON TEST SET:  0.7684117125110914\n"
     ]
    }
   ],
   "source": [
    "tree = DecisionTreeClassifier(max_depth=4, random_state=0)\n",
    "tree.fit(X_train, y_train)\n",
    "train_accuracy = tree.score(X_train, y_train)\n",
    "accuracy = tree.score(X_test, y_test)\n",
    "print(\"MODEL ACCURACY ON TRAINING SET: \", train_accuracy)\n",
    "print(\"MODEL ACCURACY ON TEST SET: \", accuracy)"
   ]
  },
  {
   "cell_type": "code",
   "execution_count": 11,
   "metadata": {},
   "outputs": [
    {
     "name": "stdout",
     "output_type": "stream",
     "text": [
      "Feature importances:\n",
      "[0.         0.         0.         0.         0.         0.1212454\n",
      " 0.         0.         0.08020954 0.14818178 0.         0.\n",
      " 0.         0.         0.0105895  0.57041228 0.         0.\n",
      " 0.05789679 0.01146471]\n"
     ]
    }
   ],
   "source": [
    "# analisi dell'importanza delle features\n",
    "print(\"Feature importances:\")\n",
    "print(tree.feature_importances_)"
   ]
  },
  {
   "cell_type": "code",
   "execution_count": 12,
   "metadata": {},
   "outputs": [
    {
     "data": {
      "image/png": "[encoded data removed]",
      "text/plain": [
       "<Figure size 432x288 with 1 Axes>"
      ]
     },
     "metadata": {
      "needs_background": "light"
     },
     "output_type": "display_data"
    }
   ],
   "source": [
    "plot_feature_importances_telco(tree)"
   ]
  },
  {
   "cell_type": "markdown",
   "metadata": {},
   "source": [
    "## K-NEAREST NEIGHBORS"
   ]
  },
  {
   "cell_type": "code",
   "execution_count": 18,
   "metadata": {},
   "outputs": [
    {
     "data": {
      "text/plain": [
       "KNeighborsClassifier(n_neighbors=1)"
      ]
     },
     "execution_count": 18,
     "metadata": {},
     "output_type": "execute_result"
    }
   ],
   "source": [
    "# algoritmo k-nearest neighbor con n_neighbors=1\n",
    "classifier = KNeighborsClassifier(n_neighbors=1)\n",
    "\n",
    "classifier.fit(X_train, y_train)"
   ]
  },
  {
   "cell_type": "code",
   "execution_count": 19,
   "metadata": {},
   "outputs": [
    {
     "name": "stdout",
     "output_type": "stream",
     "text": [
      "MODEL ACCURACY ON TRAINING SET:  1.0\n",
      "MODEL ACCURACY ON TEST SET:  0.6441881100266194\n"
     ]
    }
   ],
   "source": [
    "# testa il modello e stabilisce l'accuratezza\n",
    "train_accuracy = classifier.score(X_train, y_train)\n",
    "accuracy = classifier.score(X_test, y_test)\n",
    "print(\"MODEL ACCURACY ON TRAINING SET: \", train_accuracy)\n",
    "print(\"MODEL ACCURACY ON TEST SET: \", accuracy)"
   ]
  },
  {
   "cell_type": "code",
   "execution_count": 20,
   "metadata": {},
   "outputs": [
    {
     "name": "stdout",
     "output_type": "stream",
     "text": [
      "MODEL ACCURACY ON TRAINING SET:  0.8065231861548702\n",
      "MODEL ACCURACY ON TEST SET:  0.7320319432120674\n"
     ]
    }
   ],
   "source": [
    "# algoritmo k-nearest neighbor con n_neighbors=4\n",
    "classifier = KNeighborsClassifier(n_neighbors=4)\n",
    "classifier.fit(X_train, y_train)\n",
    "train_accuracy = classifier.score(X_train, y_train)\n",
    "accuracy = classifier.score(X_test, y_test)\n",
    "print(\"MODEL ACCURACY ON TRAINING SET: \", train_accuracy)\n",
    "print(\"MODEL ACCURACY ON TEST SET: \", accuracy)"
   ]
  },
  {
   "cell_type": "markdown",
   "metadata": {},
   "source": [
    "## LOGISTIC REGRESSION"
   ]
  },
  {
   "cell_type": "code",
   "execution_count": 15,
   "metadata": {},
   "outputs": [
    {
     "name": "stdout",
     "output_type": "stream",
     "text": [
      "MODEL ACCURACY ON TRAINING SET:  0.7803416907033504\n",
      "MODEL ACCURACY ON TEST SET:  0.7879325643300799\n"
     ]
    }
   ],
   "source": [
    "# utilizziamo un modello di logistic regression, poiché si è rivelato il più accurato\n",
    "logreg = LogisticRegression(max_iter=1000).fit(X_train, y_train)\n",
    "print(\"MODEL ACCURACY ON TRAINING SET: \", logreg.score(X_train, y_train))\n",
    "print(\"MODEL ACCURACY ON TEST SET: \", logreg.score(X_test, y_test))"
   ]
  },
  {
   "cell_type": "code",
   "execution_count": null,
   "metadata": {},
   "outputs": [],
   "source": []
  }
 ],
 "metadata": {
  "kernelspec": {
   "display_name": "Python 3",
   "language": "python",
   "name": "python3"
  },
  "language_info": {
   "codemirror_mode": {
    "name": "ipython",
    "version": 3
   },
   "file_extension": ".py",
   "mimetype": "text/x-python",
   "name": "python",
   "nbconvert_exporter": "python",
   "pygments_lexer": "ipython3",
   "version": "3.8.5"
  }
 },
 "nbformat": 4,
 "nbformat_minor": 4
}
